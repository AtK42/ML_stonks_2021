{
 "cells": [
  {
   "cell_type": "markdown",
   "metadata": {},
   "source": [
    "### SVM"
   ]
  },
  {
   "cell_type": "code",
   "execution_count": null,
   "metadata": {},
   "outputs": [],
   "source": [
    "##### SVM Classifier\n",
    "\n",
    "from sklearn.preprocessing import StandardScaler\n",
    "from sklearn.pipeline import Pipeline\n",
    "from sklearn.model_selection import GridSearchCV\n",
    "from sklearn.svm import SVC\n",
    "\n",
    "\n",
    "X_train_svm, X_test_svm, y_train_svm, y_test_svm = train_test_split(X_final, y, test_size=0.2, random_state=0, stratify=y)\n",
    "\n",
    "print(X_train_svm.shape, X_test_svm.shape)\n",
    "\n",
    "#create 10-fold CV object\n",
    "kFold_svm = StratifiedKFold(n_splits=10)\n",
    "\n",
    "\n",
    "# Exhaustive Grid Search\n",
    "pipe_svm = Pipeline([('feature_selection', SelectFromModel(RandomForestClassifier(), threshold='median')),\n",
    "                     ('scaler', StandardScaler()),\n",
    "                     ('svm', SVC(random_state=0, class_weight='balanced'))])\n",
    "\n",
    "param_grid_svm = [{'svm__C': [1, 10, 100, 1000], 'svm__kernel': ['linear']},\n",
    "                  {'svm__C': [1, 10, 100, 1000], 'svm__gamma': [0.01, 0.001, 0.0001], 'svm__kernel': ['rbf']},\n",
    "                  {'svm__C': [1, 10, 100, 1000], 'svm__gamma': [0.01, 0.001, 0.0001], 'svm__degree': [2, 3, 5, 7], 'svm__coef0': [0, 1, 2], 'svm__kernel': ['poly']},\n",
    "                  {'svm__C': [1, 10, 100, 1000], 'svm__gamma': [0.01, 0.001, 0.0001], 'svm__coef0': [0, 1, 2], 'svm__kernel': ['sigmoid']}]\n",
    "\n",
    "grid_svm = GridSearchCV(estimator=pipe_svm, \n",
    "                        param_grid=param_grid_svm, \n",
    "                        scoring='accuracy',\n",
    "                        cv=kFold_svm, \n",
    "                        n_jobs=-1)\n",
    "grid_svm.fit(X_train, y_train)\n",
    "\n",
    "print('Best CV accuracy: {: .2 f}'.format(grid_svm.best_score_))\n",
    "print('Test score: {: .2 f}'.format(grid_svm.score(X_test, y_test)))\n",
    "print('Best parameters: {}'.format(grid_svm.best_params_))"
   ]
  },
  {
   "cell_type": "code",
   "execution_count": null,
   "metadata": {},
   "outputs": [],
   "source": [
    "# extract best params\n",
    "extr_bp_svm = grid_svm.best_estimator_ \n",
    "# fit with best params\n",
    "extr_bp_svm.fit(X_train_svm, y_train_svm)\n",
    "# print score\n",
    "print('test accuracy: {0: .4f}'.format(extr_bp_svm.score(X_test_svm, y_test_svm)))"
   ]
  },
  {
   "cell_type": "code",
   "execution_count": null,
   "metadata": {},
   "outputs": [],
   "source": [
    "# ???: linear, rbf, poly, sigmoid\n",
    "'''\n",
    "## Predict Recommendation\n",
    "y_pred_svm = svm_???.predict(X_test_svm)\n",
    "\n",
    "\n",
    "## Confusion Matrix\n",
    "print(metrics.confusion_matrix(y_test, y_pred))\n",
    "\n",
    "\n",
    "## Test scores \n",
    "print('Scores with balanced set:')\n",
    "print(metrics.classification_report(y_test, y_pred))\n",
    "print('\\n')\n",
    "print(\"Test score: {: .2f}\".format(svm_???.score(X_test_std, y_test)))\n",
    "\n",
    "'''"
   ]
  },
  {
   "cell_type": "markdown",
   "metadata": {},
   "source": [
    "### KNN "
   ]
  },
  {
   "cell_type": "code",
   "execution_count": null,
   "metadata": {},
   "outputs": [],
   "source": [
    "##### KNN Classifier\n",
    "\n",
    "from sklearn import neighbors \n",
    "from sklearn.neighbors import KNeighborsClassifier\n",
    "\n",
    "X_train_knn, X_test_knn, y_train_knn, y_test_knn = train_test_split(X_final, y, test_size=0.2, random_state=0, stratify=y)\n",
    "\n",
    "print(X_train_svm.shape, X_test_svm.shape)\n",
    "\n",
    "#create 10-fold CV object\n",
    "kFold_knn = StratifiedKFold(n_splits=10)\n",
    "\n",
    "\n",
    "# Exhaustive Grid Search\n",
    "pipe_knn = Pipeline([('feature_selection', SelectFromModel(RandomForestClassifier(), threshold='median')),\n",
    "                     ('scaler', StandardScaler()),\n",
    "                     ('knn', KNeighborsClassifier())])\n",
    "\n",
    "param_grid_knn = [{'knn__leaf_size': [10, 20, 30, 40, 50], \n",
    "                   'knn__n_neighbors': [5, 10, 20, 30], \n",
    "                   'knn__p': [1,2],\n",
    "                   'knn__weights': ['uniform', 'distance']}]\n",
    "\n",
    "grid_knn = GridSearchCV(estimator=pipe_knn, \n",
    "                        param_grid=param_grid_knn, \n",
    "                        scoring='accuracy',\n",
    "                        cv=kFold_knn, \n",
    "                        n_jobs=-1)\n",
    "grid_knn.fit(X_train, y_train)\n",
    "\n",
    "print('Best CV accuracy: {:.2f}'.format(grid_knn.best_score_))\n",
    "print('Test score: {:.2f}'.format(grid_knn.score(X_test, y_test)))\n",
    "print('Best parameters: {}'.format(grid_knn.best_params_))\n",
    "\n"
   ]
  },
  {
   "cell_type": "code",
   "execution_count": null,
   "metadata": {},
   "outputs": [],
   "source": [
    "# extract best params\n",
    "extr_bp_knn = grid_knn.best_estimator_ \n",
    "# fit with best params\n",
    "extr_bp_knn.fit(X_train_knn, y_train_knn)\n",
    "# print score\n",
    "print('test accuracy: {0: .4f}'.format(extr_bp_knn.score(X_test_knn, y_test_knn)))"
   ]
  }
 ],
 "metadata": {
  "kernelspec": {
   "display_name": "Python 3",
   "language": "python",
   "name": "python3"
  },
  "language_info": {
   "codemirror_mode": {
    "name": "ipython",
    "version": 3
   },
   "file_extension": ".py",
   "mimetype": "text/x-python",
   "name": "python",
   "nbconvert_exporter": "python",
   "pygments_lexer": "ipython3",
   "version": "3.8.5"
  }
 },
 "nbformat": 4,
 "nbformat_minor": 4
}
