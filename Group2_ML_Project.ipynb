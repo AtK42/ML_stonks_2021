{
 "cells": [
  {
   "cell_type": "markdown",
   "metadata": {},
   "source": [
    "# Group 2: Dekker, Hauser, Tassone, Vogel\n",
    "## buy/hodl/sell"
   ]
  },
  {
   "cell_type": "code",
   "execution_count": 3,
   "metadata": {},
   "outputs": [],
   "source": [
    "##### packages\n",
    "import os\n",
    "from IPython.core.interactiveshell import InteractiveShell\n",
    "InteractiveShell.ast_node_interactivity = 'all'\n",
    "\n",
    "import numpy as np\n",
    "import pandas as pd\n"
   ]
  },
  {
   "cell_type": "code",
   "execution_count": 4,
   "metadata": {},
   "outputs": [],
   "source": [
    "##### reading data\n",
    "#AH\n",
    "df14 = pd.read_csv(r'C:\\Users\\Aaron\\Documents\\Studium UZH\\Bachelor\\6. Semester\\_Machine Learning\\project\\raw data\\2014_Financial_Data.csv')\n",
    "df15 = pd.read_csv(r'C:\\Users\\Aaron\\Documents\\Studium UZH\\Bachelor\\6. Semester\\_Machine Learning\\project\\raw data\\2015_Financial_Data.csv')\n",
    "df16 = pd.read_csv(r'C:\\Users\\Aaron\\Documents\\Studium UZH\\Bachelor\\6. Semester\\_Machine Learning\\project\\raw data\\2016_Financial_Data.csv')\n",
    "df17 = pd.read_csv(r'C:\\Users\\Aaron\\Documents\\Studium UZH\\Bachelor\\6. Semester\\_Machine Learning\\project\\raw data\\2017_Financial_Data.csv')\n",
    "df18 = pd.read_csv(r'C:\\Users\\Aaron\\Documents\\Studium UZH\\Bachelor\\6. Semester\\_Machine Learning\\project\\raw data\\2018_Financial_Data.csv')\n",
    "\n",
    "\n",
    "df_sp500 = pd.read_csv(r'C:\\Users\\Aaron\\Documents\\Studium UZH\\Bachelor\\6. Semester\\_Machine Learning\\project\\raw data\\sp-500-historical-annual-returns.csv')"
   ]
  },
  {
   "cell_type": "code",
   "execution_count": 5,
   "metadata": {
    "scrolled": true
   },
   "outputs": [],
   "source": [
    "df_sp500 = df_sp500[86:91]\n",
    "\n",
    "df14['year'] = 2014\n",
    "df15['year'] = 2015\n",
    "df16['year'] = 2016\n",
    "df17['year'] = 2017\n",
    "df18['year'] = 2018\n",
    "\n",
    "df14['recommendation'] = 0\n",
    "df15['recommendation'] = 0\n",
    "df16['recommendation'] = 0\n",
    "df17['recommendation'] = 0\n",
    "df18['recommendation'] = 0\n",
    "\n",
    "df14.rename(columns={\"2015 PRICE VAR [%]\": \"PRICE_VAR\"},inplace=True)\n",
    "df15.rename(columns={\"2016 PRICE VAR [%]\": \"PRICE_VAR\"},inplace=True)\n",
    "df16.rename(columns={\"2017 PRICE VAR [%]\": \"PRICE_VAR\"},inplace=True)\n",
    "df17.rename(columns={\"2018 PRICE VAR [%]\": \"PRICE_VAR\"},inplace=True)\n",
    "df18.rename(columns={\"2019 PRICE VAR [%]\": \"PRICE_VAR\"},inplace=True)\n",
    "\n",
    "df_all = pd.concat([df14, df15, df16, df17, df18], ignore_index=True)"
   ]
  },
  {
   "cell_type": "code",
   "execution_count": 31,
   "metadata": {},
   "outputs": [
    {
     "data": {
      "text/plain": [
       "[3807,\n",
       " 3807,\n",
       " 1956,\n",
       " 1596,\n",
       " 1596,\n",
       " 1585,\n",
       " 1547,\n",
       " 1547,\n",
       " 1536,\n",
       " 1465,\n",
       " 1424,\n",
       " 1296,\n",
       " 1296,\n",
       " 1277,\n",
       " 1274,\n",
       " 1243,\n",
       " 1243,\n",
       " 1243,\n",
       " 1118,\n",
       " 1118,\n",
       " 1064,\n",
       " 1053,\n",
       " 1049,\n",
       " 1037,\n",
       " 1037,\n",
       " 1031,\n",
       " 1016]"
      ]
     },
     "execution_count": 31,
     "metadata": {},
     "output_type": "execute_result"
    },
    {
     "data": {
      "text/plain": [
       "RangeIndex(start=0, stop=3808, step=1)"
      ]
     },
     "execution_count": 31,
     "metadata": {},
     "output_type": "execute_result"
    },
    {
     "data": {
      "text/plain": [
       "RangeIndex(start=0, stop=3808, step=1)"
      ]
     },
     "execution_count": 31,
     "metadata": {},
     "output_type": "execute_result"
    },
    {
     "data": {
      "text/plain": [
       "RangeIndex(start=0, stop=3808, step=1)"
      ]
     },
     "execution_count": 31,
     "metadata": {},
     "output_type": "execute_result"
    },
    {
     "data": {
      "text/plain": [
       "RangeIndex(start=0, stop=3808, step=1)"
      ]
     },
     "execution_count": 31,
     "metadata": {},
     "output_type": "execute_result"
    },
    {
     "data": {
      "text/plain": [
       "RangeIndex(start=0, stop=3808, step=1)"
      ]
     },
     "execution_count": 31,
     "metadata": {},
     "output_type": "execute_result"
    },
    {
     "data": {
      "text/plain": [
       "RangeIndex(start=0, stop=3808, step=1)"
      ]
     },
     "execution_count": 31,
     "metadata": {},
     "output_type": "execute_result"
    },
    {
     "data": {
      "text/plain": [
       "RangeIndex(start=0, stop=3808, step=1)"
      ]
     },
     "execution_count": 31,
     "metadata": {},
     "output_type": "execute_result"
    },
    {
     "data": {
      "text/plain": [
       "RangeIndex(start=0, stop=3808, step=1)"
      ]
     },
     "execution_count": 31,
     "metadata": {},
     "output_type": "execute_result"
    },
    {
     "data": {
      "text/plain": [
       "RangeIndex(start=0, stop=3808, step=1)"
      ]
     },
     "execution_count": 31,
     "metadata": {},
     "output_type": "execute_result"
    },
    {
     "data": {
      "text/plain": [
       "RangeIndex(start=0, stop=3808, step=1)"
      ]
     },
     "execution_count": 31,
     "metadata": {},
     "output_type": "execute_result"
    },
    {
     "data": {
      "text/plain": [
       "RangeIndex(start=0, stop=3808, step=1)"
      ]
     },
     "execution_count": 31,
     "metadata": {},
     "output_type": "execute_result"
    },
    {
     "data": {
      "text/plain": [
       "RangeIndex(start=0, stop=3808, step=1)"
      ]
     },
     "execution_count": 31,
     "metadata": {},
     "output_type": "execute_result"
    },
    {
     "data": {
      "text/plain": [
       "RangeIndex(start=0, stop=3808, step=1)"
      ]
     },
     "execution_count": 31,
     "metadata": {},
     "output_type": "execute_result"
    },
    {
     "data": {
      "text/plain": [
       "RangeIndex(start=0, stop=3808, step=1)"
      ]
     },
     "execution_count": 31,
     "metadata": {},
     "output_type": "execute_result"
    },
    {
     "data": {
      "text/plain": [
       "RangeIndex(start=0, stop=3808, step=1)"
      ]
     },
     "execution_count": 31,
     "metadata": {},
     "output_type": "execute_result"
    },
    {
     "data": {
      "text/plain": [
       "RangeIndex(start=0, stop=3808, step=1)"
      ]
     },
     "execution_count": 31,
     "metadata": {},
     "output_type": "execute_result"
    },
    {
     "data": {
      "text/plain": [
       "RangeIndex(start=0, stop=3808, step=1)"
      ]
     },
     "execution_count": 31,
     "metadata": {},
     "output_type": "execute_result"
    },
    {
     "data": {
      "text/plain": [
       "RangeIndex(start=0, stop=3808, step=1)"
      ]
     },
     "execution_count": 31,
     "metadata": {},
     "output_type": "execute_result"
    },
    {
     "data": {
      "text/plain": [
       "RangeIndex(start=0, stop=3808, step=1)"
      ]
     },
     "execution_count": 31,
     "metadata": {},
     "output_type": "execute_result"
    },
    {
     "data": {
      "text/plain": [
       "RangeIndex(start=0, stop=3808, step=1)"
      ]
     },
     "execution_count": 31,
     "metadata": {},
     "output_type": "execute_result"
    },
    {
     "data": {
      "text/plain": [
       "RangeIndex(start=0, stop=3808, step=1)"
      ]
     },
     "execution_count": 31,
     "metadata": {},
     "output_type": "execute_result"
    },
    {
     "data": {
      "text/plain": [
       "RangeIndex(start=0, stop=3808, step=1)"
      ]
     },
     "execution_count": 31,
     "metadata": {},
     "output_type": "execute_result"
    },
    {
     "data": {
      "text/plain": [
       "RangeIndex(start=0, stop=3808, step=1)"
      ]
     },
     "execution_count": 31,
     "metadata": {},
     "output_type": "execute_result"
    },
    {
     "data": {
      "text/plain": [
       "RangeIndex(start=0, stop=3808, step=1)"
      ]
     },
     "execution_count": 31,
     "metadata": {},
     "output_type": "execute_result"
    },
    {
     "data": {
      "text/plain": [
       "RangeIndex(start=0, stop=3808, step=1)"
      ]
     },
     "execution_count": 31,
     "metadata": {},
     "output_type": "execute_result"
    },
    {
     "data": {
      "text/plain": [
       "RangeIndex(start=0, stop=3808, step=1)"
      ]
     },
     "execution_count": 31,
     "metadata": {},
     "output_type": "execute_result"
    },
    {
     "data": {
      "text/plain": [
       "RangeIndex(start=0, stop=3808, step=1)"
      ]
     },
     "execution_count": 31,
     "metadata": {},
     "output_type": "execute_result"
    },
    {
     "data": {
      "text/plain": [
       "[]"
      ]
     },
     "execution_count": 31,
     "metadata": {},
     "output_type": "execute_result"
    }
   ],
   "source": [
    "##### some minor EDA\n",
    "df14.columns\n",
    "df14.info()\n",
    "df14['Class']\n",
    "df_all.describe()\n",
    "\n",
    "##### check missing values\n",
    "df14.isnull().sum().sum()\n",
    "df15.isnull().sum().sum()\n",
    "df16.isnull().sum().sum()\n",
    "df17.isnull().sum().sum()\n",
    "df18.isnull().sum().sum()\n",
    "df_all.isnull().sum().sum()"
   ]
  },
  {
   "cell_type": "code",
   "execution_count": 42,
   "metadata": {},
   "outputs": [
    {
     "data": {
      "text/plain": [
       "{'Net Debt': 1277,\n",
       " 'Other Assets': 1274,\n",
       " 'priceCashFlowRatio': 1053,\n",
       " 'priceEarningsToGrowthRatio': 1296,\n",
       " 'ebtperEBIT': 1118,\n",
       " 'niperEBT': 1243,\n",
       " 'effectiveTaxRate': 1243,\n",
       " 'nIperEBT': 1243,\n",
       " 'eBTperEBIT': 1118,\n",
       " 'operatingCycle': 3807,\n",
       " 'cashConversionCycle': 3807,\n",
       " 'cashFlowToDebtRatio': 1596,\n",
       " 'freeCashFlowOperatingCashFlowRatio': 1016,\n",
       " 'cashFlowCoverageRatios': 1596,\n",
       " 'shortTermCoverageRatios': 1956,\n",
       " 'dividendPayoutRatio': 1296,\n",
       " 'Net Debt to EBITDA': 1424,\n",
       " 'Weighted Average Shares Diluted Growth': 1049,\n",
       " '10Y Revenue Growth (per Share)': 1547,\n",
       " '5Y Revenue Growth (per Share)': 1037,\n",
       " '10Y Operating CF Growth (per Share)': 1536,\n",
       " '5Y Operating CF Growth (per Share)': 1031,\n",
       " '10Y Net Income Growth (per Share)': 1547,\n",
       " '5Y Net Income Growth (per Share)': 1037,\n",
       " '10Y Shareholders Equity Growth (per Share)': 1585,\n",
       " '5Y Shareholders Equity Growth (per Share)': 1064,\n",
       " '10Y Dividend per Share Growth (per Share)': 1465}"
      ]
     },
     "execution_count": 42,
     "metadata": {},
     "output_type": "execute_result"
    }
   ],
   "source": [
    "#function to give back the colnames of cols with more than 1000 NAs (and therefore possibly to retire from the df)\n",
    "def name_gettr(data):\n",
    "    res = {}\n",
    "    for el in data[:1]:\n",
    "        if data[el].isnull().sum() > 1000:\n",
    "            res[el] = data[el].isnull().sum()\n",
    "    return res\n",
    "name_gettr(df14)\n",
    "\n",
    "\n",
    "\n",
    "#df14.drop(['operatingCycle', 'cashConversionCycle', 'shortTermCoverageRatios', 'cashFlowToDebtRatio', 'shortTermCoverageRatios', 'cashFlowCoverageRatios'], axis=1).isnull().sum().idxmax() \n",
    "#df14['cashFlowCoverageRatios'].isnull().sum()\n",
    "#var=[x for x in df14.isnull().sum() if x > 1000]\n",
    "#var.sort(reverse=True)\n",
    "#var\n",
    "\n",
    "#var2 = []\n",
    "#for i in df14.isnull().sum():\n",
    "#    if i < 1000:\n",
    "#        continue\n",
    "#    elif i in var:\n",
    "#        #var2.append(df14)\n",
    "#        df14.index        \n",
    "#var2\n",
    "#df14.isnull().sum()\n",
    "\n",
    "\n",
    "# operatingCycle (3807 NAs), cashConversionCycle (3807 NAs), shortTermCoverageRatios (1956 NAs), 'cashFlowCoverageRatios' (1596),"
   ]
  },
  {
   "cell_type": "code",
   "execution_count": 47,
   "metadata": {},
   "outputs": [
    {
     "data": {
      "text/plain": [
       "44"
      ]
     },
     "execution_count": 47,
     "metadata": {},
     "output_type": "execute_result"
    }
   ],
   "source": [
    "df14['Revenue'].isnull().sum()"
   ]
  },
  {
   "cell_type": "markdown",
   "metadata": {},
   "source": [
    "## Topics to consider\n",
    "* imputing (e.g. KNN, https://www.kaggle.com/priyankasachdeva20/catboost-model-to-classify-buy-or-sell-stocks/comments line 11)\n",
    "* 0s in df\n",
    "* outliers\n",
    "* feature engineering\n",
    "* class imbalance\n",
    "* analysis"
   ]
  }
 ],
 "metadata": {
  "kernelspec": {
   "display_name": "Python 3",
   "language": "python",
   "name": "python3"
  },
  "language_info": {
   "codemirror_mode": {
    "name": "ipython",
    "version": 3
   },
   "file_extension": ".py",
   "mimetype": "text/x-python",
   "name": "python",
   "nbconvert_exporter": "python",
   "pygments_lexer": "ipython3",
   "version": "3.8.5"
  }
 },
 "nbformat": 4,
 "nbformat_minor": 4
}
